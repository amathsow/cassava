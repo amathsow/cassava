{
 "cells": [
  {
   "cell_type": "code",
   "execution_count": 2,
   "metadata": {},
   "outputs": [],
   "source": [
    "%matplotlib inline\n",
    "\n",
    "import numpy as np\n",
    "from PIL import Image\n",
    "import os\n",
    "from matplotlib import pyplot as plt\n",
    "import os\n",
    "import pickle\n",
    "from DataGenerator import DataGenerator\n",
    "import numpy as np\n",
    "import h5py"
   ]
  },
  {
   "cell_type": "code",
   "execution_count": 5,
   "metadata": {},
   "outputs": [],
   "source": [
    "hdf5_file = h5py.File('../extraimages.hdf5')\n",
    "normalize_mean = np.array(hdf5_file['train_mean'])\n",
    "normalize_std = np.array(hdf5_file['train_std'])\n",
    "train_dataset = hdf5_file['train_img']\n",
    "val_dataset = hdf5_file['val_img']\n",
    "test_dataset = hdf5_file['test_img']\n",
    "max_hamming_set = np.loadtxt('hamming_set/maxHammingSet_of_25_on_May_17_11:40:34.txt') #hdf5_file['max_hamming_set']\n",
    "\n",
    "dataGenerator = DataGenerator(batchSize=1, meanTensor=normalize_mean,\n",
    "                              stdTensor=normalize_std, maxHammingSet=max_hamming_set[:25])"
   ]
  },
  {
   "cell_type": "code",
   "execution_count": null,
   "metadata": {},
   "outputs": [],
   "source": []
  }
 ],
 "metadata": {
  "kernelspec": {
   "display_name": "Python (cassava_env)",
   "language": "python",
   "name": "cassava_env"
  },
  "language_info": {
   "codemirror_mode": {
    "name": "ipython",
    "version": 3
   },
   "file_extension": ".py",
   "mimetype": "text/x-python",
   "name": "python",
   "nbconvert_exporter": "python",
   "pygments_lexer": "ipython3",
   "version": "3.7.2"
  }
 },
 "nbformat": 4,
 "nbformat_minor": 2
}
